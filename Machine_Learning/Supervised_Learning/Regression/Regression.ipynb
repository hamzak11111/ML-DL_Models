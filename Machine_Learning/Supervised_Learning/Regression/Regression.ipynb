{
 "cells": [
  {
   "cell_type": "markdown",
   "metadata": {},
   "source": [
    "### Importing Libraries"
   ]
  },
  {
   "cell_type": "code",
   "execution_count": 28,
   "metadata": {},
   "outputs": [],
   "source": [
    "import pandas as pd\n",
    "import numpy as np\n",
    "from sklearn.model_selection import train_test_split\n",
    "from sklearn.preprocessing import StandardScaler, OneHotEncoder, PolynomialFeatures\n",
    "from sklearn.compose import ColumnTransformer\n",
    "from sklearn.pipeline import Pipeline\n",
    "from sklearn.linear_model import LinearRegression\n",
    "from sklearn.ensemble import RandomForestRegressor\n",
    "from sklearn.svm import SVR\n",
    "from sklearn.metrics import mean_squared_error, r2_score\n",
    "import matplotlib.pyplot as plt"
   ]
  },
  {
   "cell_type": "markdown",
   "metadata": {},
   "source": [
    "### Creating Random Dataset with Categorical and Continous Variables"
   ]
  },
  {
   "cell_type": "code",
   "execution_count": 29,
   "metadata": {},
   "outputs": [],
   "source": [
    "np.random.seed(0)\n",
    "data = pd.DataFrame({\n",
    "    'age': np.random.randint(18, 70, size=100),\n",
    "    'income': np.random.randint(20000, 100000, size=100),\n",
    "    'score': np.random.uniform(0, 1, size=100),\n",
    "    'gender': np.random.choice(['Male', 'Female'], size=100),\n",
    "    'city': np.random.choice(['New York', 'Los Angeles', 'Chicago'], size=100),\n",
    "    'target': np.random.uniform(0, 1000, size=100)  # Continuous target variable for regression\n",
    "})"
   ]
  },
  {
   "cell_type": "markdown",
   "metadata": {},
   "source": [
    "### EDA"
   ]
  },
  {
   "cell_type": "code",
   "execution_count": 30,
   "metadata": {},
   "outputs": [
    {
     "data": {
      "text/html": [
       "<div>\n",
       "<style scoped>\n",
       "    .dataframe tbody tr th:only-of-type {\n",
       "        vertical-align: middle;\n",
       "    }\n",
       "\n",
       "    .dataframe tbody tr th {\n",
       "        vertical-align: top;\n",
       "    }\n",
       "\n",
       "    .dataframe thead th {\n",
       "        text-align: right;\n",
       "    }\n",
       "</style>\n",
       "<table border=\"1\" class=\"dataframe\">\n",
       "  <thead>\n",
       "    <tr style=\"text-align: right;\">\n",
       "      <th></th>\n",
       "      <th>age</th>\n",
       "      <th>income</th>\n",
       "      <th>score</th>\n",
       "      <th>gender</th>\n",
       "      <th>city</th>\n",
       "      <th>target</th>\n",
       "    </tr>\n",
       "  </thead>\n",
       "  <tbody>\n",
       "    <tr>\n",
       "      <th>0</th>\n",
       "      <td>62</td>\n",
       "      <td>57237</td>\n",
       "      <td>0.998847</td>\n",
       "      <td>Female</td>\n",
       "      <td>Chicago</td>\n",
       "      <td>699.622054</td>\n",
       "    </tr>\n",
       "    <tr>\n",
       "      <th>1</th>\n",
       "      <td>65</td>\n",
       "      <td>99701</td>\n",
       "      <td>0.149448</td>\n",
       "      <td>Male</td>\n",
       "      <td>Los Angeles</td>\n",
       "      <td>327.720402</td>\n",
       "    </tr>\n",
       "    <tr>\n",
       "      <th>2</th>\n",
       "      <td>18</td>\n",
       "      <td>28752</td>\n",
       "      <td>0.868126</td>\n",
       "      <td>Female</td>\n",
       "      <td>New York</td>\n",
       "      <td>756.778643</td>\n",
       "    </tr>\n",
       "    <tr>\n",
       "      <th>3</th>\n",
       "      <td>21</td>\n",
       "      <td>91331</td>\n",
       "      <td>0.162493</td>\n",
       "      <td>Female</td>\n",
       "      <td>Chicago</td>\n",
       "      <td>636.061055</td>\n",
       "    </tr>\n",
       "    <tr>\n",
       "      <th>4</th>\n",
       "      <td>21</td>\n",
       "      <td>70624</td>\n",
       "      <td>0.615560</td>\n",
       "      <td>Male</td>\n",
       "      <td>New York</td>\n",
       "      <td>240.020273</td>\n",
       "    </tr>\n",
       "  </tbody>\n",
       "</table>\n",
       "</div>"
      ],
      "text/plain": [
       "   age  income     score  gender         city      target\n",
       "0   62   57237  0.998847  Female      Chicago  699.622054\n",
       "1   65   99701  0.149448    Male  Los Angeles  327.720402\n",
       "2   18   28752  0.868126  Female     New York  756.778643\n",
       "3   21   91331  0.162493  Female      Chicago  636.061055\n",
       "4   21   70624  0.615560    Male     New York  240.020273"
      ]
     },
     "execution_count": 30,
     "metadata": {},
     "output_type": "execute_result"
    }
   ],
   "source": [
    "data.head()"
   ]
  },
  {
   "cell_type": "code",
   "execution_count": 31,
   "metadata": {},
   "outputs": [
    {
     "data": {
      "text/html": [
       "<div>\n",
       "<style scoped>\n",
       "    .dataframe tbody tr th:only-of-type {\n",
       "        vertical-align: middle;\n",
       "    }\n",
       "\n",
       "    .dataframe tbody tr th {\n",
       "        vertical-align: top;\n",
       "    }\n",
       "\n",
       "    .dataframe thead th {\n",
       "        text-align: right;\n",
       "    }\n",
       "</style>\n",
       "<table border=\"1\" class=\"dataframe\">\n",
       "  <thead>\n",
       "    <tr style=\"text-align: right;\">\n",
       "      <th></th>\n",
       "      <th>age</th>\n",
       "      <th>income</th>\n",
       "      <th>score</th>\n",
       "      <th>target</th>\n",
       "    </tr>\n",
       "  </thead>\n",
       "  <tbody>\n",
       "    <tr>\n",
       "      <th>count</th>\n",
       "      <td>100.000000</td>\n",
       "      <td>100.000000</td>\n",
       "      <td>100.000000</td>\n",
       "      <td>100.000000</td>\n",
       "    </tr>\n",
       "    <tr>\n",
       "      <th>mean</th>\n",
       "      <td>41.570000</td>\n",
       "      <td>61144.980000</td>\n",
       "      <td>0.470791</td>\n",
       "      <td>488.540837</td>\n",
       "    </tr>\n",
       "    <tr>\n",
       "      <th>std</th>\n",
       "      <td>15.537023</td>\n",
       "      <td>24686.931926</td>\n",
       "      <td>0.291330</td>\n",
       "      <td>307.798947</td>\n",
       "    </tr>\n",
       "    <tr>\n",
       "      <th>min</th>\n",
       "      <td>18.000000</td>\n",
       "      <td>20469.000000</td>\n",
       "      <td>0.011714</td>\n",
       "      <td>12.036223</td>\n",
       "    </tr>\n",
       "    <tr>\n",
       "      <th>25%</th>\n",
       "      <td>29.000000</td>\n",
       "      <td>36709.250000</td>\n",
       "      <td>0.212445</td>\n",
       "      <td>239.467016</td>\n",
       "    </tr>\n",
       "    <tr>\n",
       "      <th>50%</th>\n",
       "      <td>41.000000</td>\n",
       "      <td>59264.000000</td>\n",
       "      <td>0.453620</td>\n",
       "      <td>424.060620</td>\n",
       "    </tr>\n",
       "    <tr>\n",
       "      <th>75%</th>\n",
       "      <td>55.250000</td>\n",
       "      <td>83122.750000</td>\n",
       "      <td>0.718159</td>\n",
       "      <td>786.523697</td>\n",
       "    </tr>\n",
       "    <tr>\n",
       "      <th>max</th>\n",
       "      <td>69.000000</td>\n",
       "      <td>99983.000000</td>\n",
       "      <td>0.998847</td>\n",
       "      <td>992.011243</td>\n",
       "    </tr>\n",
       "  </tbody>\n",
       "</table>\n",
       "</div>"
      ],
      "text/plain": [
       "              age        income       score      target\n",
       "count  100.000000    100.000000  100.000000  100.000000\n",
       "mean    41.570000  61144.980000    0.470791  488.540837\n",
       "std     15.537023  24686.931926    0.291330  307.798947\n",
       "min     18.000000  20469.000000    0.011714   12.036223\n",
       "25%     29.000000  36709.250000    0.212445  239.467016\n",
       "50%     41.000000  59264.000000    0.453620  424.060620\n",
       "75%     55.250000  83122.750000    0.718159  786.523697\n",
       "max     69.000000  99983.000000    0.998847  992.011243"
      ]
     },
     "execution_count": 31,
     "metadata": {},
     "output_type": "execute_result"
    }
   ],
   "source": [
    "data.describe()"
   ]
  },
  {
   "cell_type": "code",
   "execution_count": 32,
   "metadata": {},
   "outputs": [
    {
     "data": {
      "text/plain": [
       "age       0\n",
       "income    0\n",
       "score     0\n",
       "gender    0\n",
       "city      0\n",
       "target    0\n",
       "dtype: int64"
      ]
     },
     "execution_count": 32,
     "metadata": {},
     "output_type": "execute_result"
    }
   ],
   "source": [
    "data.isnull().sum()"
   ]
  },
  {
   "cell_type": "code",
   "execution_count": 33,
   "metadata": {},
   "outputs": [
    {
     "name": "stdout",
     "output_type": "stream",
     "text": [
      "age  ->  <class 'str'>\n",
      "income  ->  <class 'str'>\n",
      "score  ->  <class 'str'>\n",
      "gender  ->  <class 'str'>\n",
      "city  ->  <class 'str'>\n",
      "target  ->  <class 'str'>\n"
     ]
    }
   ],
   "source": [
    "for col in data.columns:\n",
    "    print(f'{col}  ->  {type(col)}')"
   ]
  },
  {
   "cell_type": "markdown",
   "metadata": {},
   "source": [
    "### Transforming categorical and continous columns using StandardScalar and OneHotEncoder Transformers"
   ]
  },
  {
   "cell_type": "code",
   "execution_count": 34,
   "metadata": {},
   "outputs": [],
   "source": [
    "numeric_features = ['age', 'income', 'score']\n",
    "categorical_features = ['gender', 'city']"
   ]
  },
  {
   "cell_type": "markdown",
   "metadata": {},
   "source": [
    "### Combine Transformers using ColumnTransformer"
   ]
  },
  {
   "cell_type": "code",
   "execution_count": 35,
   "metadata": {},
   "outputs": [],
   "source": [
    "numeric_transformer = StandardScaler()\n",
    "categorical_transformer = OneHotEncoder()\n",
    "\n",
    "preprocessor = ColumnTransformer(\n",
    "    transformers=[\n",
    "        ('num', numeric_transformer, numeric_features),\n",
    "        ('cat', categorical_transformer, categorical_features)\n",
    "    ])"
   ]
  },
  {
   "cell_type": "markdown",
   "metadata": {},
   "source": [
    "### Splitting the dataset"
   ]
  },
  {
   "cell_type": "code",
   "execution_count": 36,
   "metadata": {},
   "outputs": [],
   "source": [
    "X = data.drop('target', axis=1)\n",
    "y = data['target']"
   ]
  },
  {
   "cell_type": "code",
   "execution_count": 37,
   "metadata": {},
   "outputs": [
    {
     "data": {
      "text/html": [
       "<div>\n",
       "<style scoped>\n",
       "    .dataframe tbody tr th:only-of-type {\n",
       "        vertical-align: middle;\n",
       "    }\n",
       "\n",
       "    .dataframe tbody tr th {\n",
       "        vertical-align: top;\n",
       "    }\n",
       "\n",
       "    .dataframe thead th {\n",
       "        text-align: right;\n",
       "    }\n",
       "</style>\n",
       "<table border=\"1\" class=\"dataframe\">\n",
       "  <thead>\n",
       "    <tr style=\"text-align: right;\">\n",
       "      <th></th>\n",
       "      <th>age</th>\n",
       "      <th>income</th>\n",
       "      <th>score</th>\n",
       "      <th>gender</th>\n",
       "      <th>city</th>\n",
       "    </tr>\n",
       "  </thead>\n",
       "  <tbody>\n",
       "    <tr>\n",
       "      <th>0</th>\n",
       "      <td>62</td>\n",
       "      <td>57237</td>\n",
       "      <td>0.998847</td>\n",
       "      <td>Female</td>\n",
       "      <td>Chicago</td>\n",
       "    </tr>\n",
       "    <tr>\n",
       "      <th>1</th>\n",
       "      <td>65</td>\n",
       "      <td>99701</td>\n",
       "      <td>0.149448</td>\n",
       "      <td>Male</td>\n",
       "      <td>Los Angeles</td>\n",
       "    </tr>\n",
       "    <tr>\n",
       "      <th>2</th>\n",
       "      <td>18</td>\n",
       "      <td>28752</td>\n",
       "      <td>0.868126</td>\n",
       "      <td>Female</td>\n",
       "      <td>New York</td>\n",
       "    </tr>\n",
       "    <tr>\n",
       "      <th>3</th>\n",
       "      <td>21</td>\n",
       "      <td>91331</td>\n",
       "      <td>0.162493</td>\n",
       "      <td>Female</td>\n",
       "      <td>Chicago</td>\n",
       "    </tr>\n",
       "    <tr>\n",
       "      <th>4</th>\n",
       "      <td>21</td>\n",
       "      <td>70624</td>\n",
       "      <td>0.615560</td>\n",
       "      <td>Male</td>\n",
       "      <td>New York</td>\n",
       "    </tr>\n",
       "    <tr>\n",
       "      <th>...</th>\n",
       "      <td>...</td>\n",
       "      <td>...</td>\n",
       "      <td>...</td>\n",
       "      <td>...</td>\n",
       "      <td>...</td>\n",
       "    </tr>\n",
       "    <tr>\n",
       "      <th>95</th>\n",
       "      <td>32</td>\n",
       "      <td>50752</td>\n",
       "      <td>0.716860</td>\n",
       "      <td>Male</td>\n",
       "      <td>Chicago</td>\n",
       "    </tr>\n",
       "    <tr>\n",
       "      <th>96</th>\n",
       "      <td>33</td>\n",
       "      <td>99464</td>\n",
       "      <td>0.396060</td>\n",
       "      <td>Male</td>\n",
       "      <td>Chicago</td>\n",
       "    </tr>\n",
       "    <tr>\n",
       "      <th>97</th>\n",
       "      <td>38</td>\n",
       "      <td>91892</td>\n",
       "      <td>0.565421</td>\n",
       "      <td>Male</td>\n",
       "      <td>Chicago</td>\n",
       "    </tr>\n",
       "    <tr>\n",
       "      <th>98</th>\n",
       "      <td>53</td>\n",
       "      <td>53930</td>\n",
       "      <td>0.183280</td>\n",
       "      <td>Male</td>\n",
       "      <td>New York</td>\n",
       "    </tr>\n",
       "    <tr>\n",
       "      <th>99</th>\n",
       "      <td>41</td>\n",
       "      <td>66774</td>\n",
       "      <td>0.144848</td>\n",
       "      <td>Female</td>\n",
       "      <td>Chicago</td>\n",
       "    </tr>\n",
       "  </tbody>\n",
       "</table>\n",
       "<p>100 rows × 5 columns</p>\n",
       "</div>"
      ],
      "text/plain": [
       "    age  income     score  gender         city\n",
       "0    62   57237  0.998847  Female      Chicago\n",
       "1    65   99701  0.149448    Male  Los Angeles\n",
       "2    18   28752  0.868126  Female     New York\n",
       "3    21   91331  0.162493  Female      Chicago\n",
       "4    21   70624  0.615560    Male     New York\n",
       "..  ...     ...       ...     ...          ...\n",
       "95   32   50752  0.716860    Male      Chicago\n",
       "96   33   99464  0.396060    Male      Chicago\n",
       "97   38   91892  0.565421    Male      Chicago\n",
       "98   53   53930  0.183280    Male     New York\n",
       "99   41   66774  0.144848  Female      Chicago\n",
       "\n",
       "[100 rows x 5 columns]"
      ]
     },
     "execution_count": 37,
     "metadata": {},
     "output_type": "execute_result"
    }
   ],
   "source": [
    "X"
   ]
  },
  {
   "cell_type": "code",
   "execution_count": 38,
   "metadata": {},
   "outputs": [
    {
     "data": {
      "text/plain": [
       "0     699.622054\n",
       "1     327.720402\n",
       "2     756.778643\n",
       "3     636.061055\n",
       "4     240.020273\n",
       "         ...    \n",
       "95    171.853099\n",
       "96    449.291649\n",
       "97    304.468407\n",
       "98    839.189122\n",
       "99    237.741826\n",
       "Name: target, Length: 100, dtype: float64"
      ]
     },
     "execution_count": 38,
     "metadata": {},
     "output_type": "execute_result"
    }
   ],
   "source": [
    "y"
   ]
  },
  {
   "cell_type": "code",
   "execution_count": 39,
   "metadata": {},
   "outputs": [],
   "source": [
    "X_train, X_test, y_train, y_test = train_test_split(X, y, test_size=0.2, random_state=0)"
   ]
  },
  {
   "cell_type": "code",
   "execution_count": 40,
   "metadata": {},
   "outputs": [
    {
     "data": {
      "text/plain": [
       "(80, 5)"
      ]
     },
     "execution_count": 40,
     "metadata": {},
     "output_type": "execute_result"
    }
   ],
   "source": [
    "X_train.shape"
   ]
  },
  {
   "cell_type": "markdown",
   "metadata": {},
   "source": [
    "### Transforming the dataset"
   ]
  },
  {
   "cell_type": "code",
   "execution_count": 41,
   "metadata": {},
   "outputs": [],
   "source": [
    "X_train = preprocessor.fit_transform(X_train)\n",
    "X_test = preprocessor.transform(X_test)"
   ]
  },
  {
   "cell_type": "code",
   "execution_count": 42,
   "metadata": {},
   "outputs": [
    {
     "data": {
      "text/plain": [
       "array([[-0.33370406, -1.52357347, -1.06562026,  1.        ,  0.        ,\n",
       "         1.        ,  0.        ,  0.        ],\n",
       "       [ 0.85977871, -1.14030493, -0.95844338,  1.        ,  0.        ,\n",
       "         1.        ,  0.        ,  0.        ],\n",
       "       [-1.33874219,  1.19152386, -1.14834894,  1.        ,  0.        ,\n",
       "         1.        ,  0.        ,  0.        ],\n",
       "       [-1.46437196,  0.06245833,  0.48000109,  1.        ,  0.        ,\n",
       "         0.        ,  1.        ,  0.        ],\n",
       "       [ 0.92259359,  1.22370118,  0.86595873,  0.        ,  1.        ,\n",
       "         0.        ,  1.        ,  0.        ],\n",
       "       [-0.96185289, -1.35906239, -0.82768535,  0.        ,  1.        ,\n",
       "         0.        ,  0.        ,  1.        ],\n",
       "       [-0.96185289,  0.5400036 ,  1.24454579,  0.        ,  1.        ,\n",
       "         0.        ,  1.        ,  0.        ],\n",
       "       [-0.08244453,  0.20256459, -1.20994209,  1.        ,  0.        ,\n",
       "         1.        ,  0.        ,  0.        ],\n",
       "       [ 0.67133406, -1.23603146, -0.97095739,  0.        ,  1.        ,\n",
       "         0.        ,  1.        ,  0.        ],\n",
       "       [-0.83622313, -1.04030958,  1.61030818,  0.        ,  1.        ,\n",
       "         0.        ,  1.        ,  0.        ],\n",
       "       [ 0.73414894, -1.60407718,  1.41441157,  0.        ,  1.        ,\n",
       "         1.        ,  0.        ,  0.        ],\n",
       "       [-1.52718684,  0.43610186,  0.83560755,  1.        ,  0.        ,\n",
       "         0.        ,  0.        ,  1.        ],\n",
       "       [ 1.42511265, -1.17453613,  0.33270435,  1.        ,  0.        ,\n",
       "         1.        ,  0.        ,  0.        ],\n",
       "       [ 1.11103824,  0.74144409, -0.37701641,  1.        ,  0.        ,\n",
       "         1.        ,  0.        ,  0.        ],\n",
       "       [-0.89903801, -1.052069  , -0.62718444,  0.        ,  1.        ,\n",
       "         1.        ,  0.        ,  0.        ],\n",
       "       [-0.96185289,  0.91924493, -0.51005285,  0.        ,  1.        ,\n",
       "         0.        ,  0.        ,  1.        ],\n",
       "       [ 0.92259359,  0.79842896, -0.45899725,  0.        ,  1.        ,\n",
       "         0.        ,  1.        ,  0.        ],\n",
       "       [ 0.23162988,  0.03092536, -1.48081008,  0.        ,  1.        ,\n",
       "         0.        ,  0.        ,  1.        ],\n",
       "       [ 0.98540847, -1.12105492,  0.59901959,  0.        ,  1.        ,\n",
       "         1.        ,  0.        ,  0.        ],\n",
       "       [ 0.67133406, -0.14917098,  1.07014799,  1.        ,  0.        ,\n",
       "         0.        ,  1.        ,  0.        ],\n",
       "       [ 1.42511265,  1.52860042, -1.19388319,  0.        ,  1.        ,\n",
       "         0.        ,  1.        ,  0.        ],\n",
       "       [-1.21311242,  0.4164894 ,  1.74137267,  0.        ,  1.        ,\n",
       "         0.        ,  1.        ,  0.        ],\n",
       "       [-0.33370406,  0.15782241, -0.98306377,  0.        ,  1.        ,\n",
       "         0.        ,  0.        ,  1.        ],\n",
       "       [ 0.29444476,  1.0826284 , -0.32550429,  1.        ,  0.        ,\n",
       "         1.        ,  0.        ,  0.        ],\n",
       "       [-1.33874219,  0.35761175,  0.4331486 ,  0.        ,  1.        ,\n",
       "         0.        ,  0.        ,  1.        ],\n",
       "       [-0.77340824, -1.16390432,  1.68965015,  1.        ,  0.        ,\n",
       "         0.        ,  0.        ,  1.        ],\n",
       "       [ 0.85977871, -0.22234518, -1.6746653 ,  0.        ,  1.        ,\n",
       "         0.        ,  1.        ,  0.        ],\n",
       "       [ 1.67637219, -1.13180754, -0.62666394,  0.        ,  1.        ,\n",
       "         0.        ,  1.        ,  0.        ],\n",
       "       [-0.01962965, -1.34742378,  0.34361483,  1.        ,  0.        ,\n",
       "         0.        ,  1.        ,  0.        ],\n",
       "       [ 0.92259359, -0.0648817 , -1.28334272,  0.        ,  1.        ,\n",
       "         1.        ,  0.        ,  0.        ],\n",
       "       [-1.33874219,  1.19357773,  1.29986345,  0.        ,  1.        ,\n",
       "         0.        ,  1.        ,  0.        ],\n",
       "       [-1.52718684, -0.98280118,  0.15745574,  1.        ,  0.        ,\n",
       "         0.        ,  0.        ,  1.        ],\n",
       "       [ 1.23666801, -0.18150938,  1.77107134,  1.        ,  0.        ,\n",
       "         1.        ,  0.        ,  0.        ],\n",
       "       [ 1.42511265,  1.17166977, -0.88515424,  0.        ,  1.        ,\n",
       "         0.        ,  0.        ,  1.        ],\n",
       "       [-0.27088918,  0.5884508 ,  1.52405292,  0.        ,  1.        ,\n",
       "         0.        ,  0.        ,  1.        ],\n",
       "       [ 0.42007453, -0.03802028, -0.1991582 ,  0.        ,  1.        ,\n",
       "         0.        ,  1.        ,  0.        ],\n",
       "       [-0.08244453,  1.40746227,  0.71892544,  0.        ,  1.        ,\n",
       "         1.        ,  0.        ,  0.        ],\n",
       "       [-1.52718684, -0.31509158,  1.54546005,  0.        ,  1.        ,\n",
       "         0.        ,  1.        ,  0.        ],\n",
       "       [ 0.79696383,  0.41056942, -1.01743699,  1.        ,  0.        ,\n",
       "         0.        ,  1.        ,  0.        ],\n",
       "       [-0.08244453,  1.15326547,  0.71513709,  1.        ,  0.        ,\n",
       "         0.        ,  1.        ,  0.        ],\n",
       "       [ 0.73414894,  1.36952606, -1.47411723,  0.        ,  1.        ,\n",
       "         0.        ,  1.        ,  0.        ],\n",
       "       [ 1.67637219,  1.48812707, -1.14066524,  1.        ,  0.        ,\n",
       "         0.        ,  0.        ,  1.        ],\n",
       "       [-1.27592731, -1.05335771,  0.93168021,  1.        ,  0.        ,\n",
       "         1.        ,  0.        ,  0.        ],\n",
       "       [ 0.60851918, -0.89146431,  0.65596806,  0.        ,  1.        ,\n",
       "         1.        ,  0.        ,  0.        ],\n",
       "       [ 0.168815  ,  1.53995712,  1.59138513,  1.        ,  0.        ,\n",
       "         1.        ,  0.        ,  0.        ],\n",
       "       [-0.27088918,  0.09028628, -0.99134943,  0.        ,  1.        ,\n",
       "         1.        ,  0.        ,  0.        ],\n",
       "       [-1.21311242,  1.49747017,  0.45380919,  0.        ,  1.        ,\n",
       "         1.        ,  0.        ,  0.        ],\n",
       "       [ 1.11103824,  0.62920606, -1.62597549,  0.        ,  1.        ,\n",
       "         0.        ,  1.        ,  0.        ],\n",
       "       [-0.01962965, -1.58373982,  1.30868335,  0.        ,  1.        ,\n",
       "         0.        ,  0.        ,  1.        ],\n",
       "       [-1.27592731,  0.54471542, -0.74645013,  0.        ,  1.        ,\n",
       "         0.        ,  1.        ,  0.        ],\n",
       "       [-0.08244453, -1.41850385,  0.83258729,  1.        ,  0.        ,\n",
       "         0.        ,  0.        ,  1.        ],\n",
       "       [ 1.67637219, -0.74253848,  0.74330984,  1.        ,  0.        ,\n",
       "         0.        ,  1.        ,  0.        ],\n",
       "       [ 0.48288941,  0.45353963, -1.51299553,  0.        ,  1.        ,\n",
       "         0.        ,  0.        ,  1.        ],\n",
       "       [-0.27088918,  1.21411645,  0.25813345,  0.        ,  1.        ,\n",
       "         1.        ,  0.        ,  0.        ],\n",
       "       [ 0.67133406, -0.31468886, -1.07578912,  0.        ,  1.        ,\n",
       "         0.        ,  0.        ,  1.        ],\n",
       "       [ 0.42007453, -0.14216365,  0.33805471,  1.        ,  0.        ,\n",
       "         0.        ,  1.        ,  0.        ],\n",
       "       [ 1.36229777,  0.61011713, -1.11645576,  0.        ,  1.        ,\n",
       "         0.        ,  0.        ,  1.        ],\n",
       "       [ 0.98540847, -1.56936272, -1.2545514 ,  0.        ,  1.        ,\n",
       "         1.        ,  0.        ,  0.        ],\n",
       "       [ 0.92259359,  1.30919862,  1.3305639 ,  1.        ,  0.        ,\n",
       "         1.        ,  0.        ,  0.        ],\n",
       "       [ 1.36229777, -0.55003837,  0.68422664,  1.        ,  0.        ,\n",
       "         0.        ,  1.        ,  0.        ],\n",
       "       [-0.71059336, -0.7423774 ,  1.05496669,  1.        ,  0.        ,\n",
       "         1.        ,  0.        ,  0.        ],\n",
       "       [ 0.67133406, -0.33047548,  0.15415216,  0.        ,  1.        ,\n",
       "         0.        ,  1.        ,  0.        ],\n",
       "       [-0.64777848,  0.90527055, -0.8291334 ,  0.        ,  1.        ,\n",
       "         0.        ,  1.        ,  0.        ],\n",
       "       [ 0.48288941, -0.80512116, -0.00353449,  1.        ,  0.        ,\n",
       "         0.        ,  0.        ,  1.        ],\n",
       "       [ 1.55074242, -0.92690366,  0.83304619,  1.        ,  0.        ,\n",
       "         0.        ,  1.        ,  0.        ],\n",
       "       [-0.5849636 , -1.27485365, -1.64346965,  1.        ,  0.        ,\n",
       "         1.        ,  0.        ,  0.        ],\n",
       "       [-1.52718684,  1.16035334, -0.13185769,  1.        ,  0.        ,\n",
       "         0.        ,  0.        ,  1.        ],\n",
       "       [-1.15029754, -0.68329839, -0.13239581,  1.        ,  0.        ,\n",
       "         1.        ,  0.        ,  0.        ],\n",
       "       [-1.15029754, -1.61104423, -0.09737501,  1.        ,  0.        ,\n",
       "         1.        ,  0.        ,  0.        ],\n",
       "       [-1.46437196, -1.66222993,  1.18534514,  1.        ,  0.        ,\n",
       "         0.        ,  0.        ,  1.        ],\n",
       "       [-1.27592731, -0.26958423, -0.40945822,  0.        ,  1.        ,\n",
       "         0.        ,  1.        ,  0.        ],\n",
       "       [-0.39651895,  1.50552457,  0.42758587,  0.        ,  1.        ,\n",
       "         0.        ,  1.        ,  0.        ],\n",
       "       [-0.01962965,  1.32554904,  0.10320193,  1.        ,  0.        ,\n",
       "         1.        ,  0.        ,  0.        ],\n",
       "       [-0.77340824, -1.04719609,  0.09330282,  1.        ,  0.        ,\n",
       "         0.        ,  0.        ,  1.        ],\n",
       "       [ 1.6135573 ,  0.99733232, -0.29422025,  1.        ,  0.        ,\n",
       "         1.        ,  0.        ,  0.        ],\n",
       "       [-0.5849636 ,  1.51905596, -0.33304884,  0.        ,  1.        ,\n",
       "         1.        ,  0.        ,  0.        ],\n",
       "       [ 1.04822336, -0.13487442, -0.59848686,  1.        ,  0.        ,\n",
       "         0.        ,  0.        ,  1.        ],\n",
       "       [-0.45933383, -0.25190482, -0.79638853,  1.        ,  0.        ,\n",
       "         0.        ,  0.        ,  1.        ],\n",
       "       [-1.46437196,  0.72372442, -0.92172996,  0.        ,  1.        ,\n",
       "         1.        ,  0.        ,  0.        ],\n",
       "       [-0.64777848,  0.35608142,  1.58091945,  1.        ,  0.        ,\n",
       "         0.        ,  0.        ,  1.        ]])"
      ]
     },
     "execution_count": 42,
     "metadata": {},
     "output_type": "execute_result"
    }
   ],
   "source": [
    "X_train"
   ]
  },
  {
   "cell_type": "code",
   "execution_count": 43,
   "metadata": {},
   "outputs": [
    {
     "data": {
      "text/plain": [
       "array([[-1.02466778, -0.40107228, -0.93391212,  1.        ,  0.        ,\n",
       "         0.        ,  1.        ,  0.        ],\n",
       "       [-0.83622313, -1.47560953, -0.23312628,  1.        ,  0.        ,\n",
       "         0.        ,  0.        ,  1.        ],\n",
       "       [-1.52718684, -1.32865703,  1.31477011,  1.        ,  0.        ,\n",
       "         0.        ,  0.        ,  1.        ],\n",
       "       [ 1.6135573 ,  1.07642651, -1.62941025,  0.        ,  1.        ,\n",
       "         0.        ,  0.        ,  1.        ],\n",
       "       [ 0.85977871, -0.99750046, -1.06756477,  0.        ,  1.        ,\n",
       "         0.        ,  0.        ,  1.        ],\n",
       "       [ 0.73414894, -0.86903281,  0.09043488,  1.        ,  0.        ,\n",
       "         0.        ,  1.        ,  0.        ],\n",
       "       [-1.46437196,  1.49142937,  1.27175581,  0.        ,  1.        ,\n",
       "         1.        ,  0.        ,  0.        ],\n",
       "       [ 1.04822336, -0.29221709, -0.76071527,  1.        ,  0.        ,\n",
       "         0.        ,  1.        ,  0.        ],\n",
       "       [-0.83622313,  1.10042862, -1.08862131,  0.        ,  1.        ,\n",
       "         0.        ,  1.        ,  0.        ],\n",
       "       [-0.64777848, -0.44267324,  0.78675196,  0.        ,  1.        ,\n",
       "         1.        ,  0.        ,  0.        ],\n",
       "       [ 0.67133406,  0.50436289, -0.3969552 ,  1.        ,  0.        ,\n",
       "         0.        ,  1.        ,  0.        ],\n",
       "       [-0.77340824,  0.24408501, -1.30529238,  0.        ,  1.        ,\n",
       "         1.        ,  0.        ,  0.        ],\n",
       "       [-0.39651895, -1.07240636, -0.96329297,  1.        ,  0.        ,\n",
       "         0.        ,  1.        ,  0.        ],\n",
       "       [-0.01962965, -1.1243975 ,  0.8048891 ,  0.        ,  1.        ,\n",
       "         0.        ,  1.        ,  0.        ],\n",
       "       [-0.33370406,  0.84619154,  1.10251374,  1.        ,  0.        ,\n",
       "         0.        ,  0.        ,  1.        ],\n",
       "       [-0.52214871, -0.19306745, -1.60441649,  0.        ,  1.        ,\n",
       "         0.        ,  0.        ,  1.        ],\n",
       "       [-0.45933383, -1.10708054, -1.52588012,  0.        ,  1.        ,\n",
       "         0.        ,  0.        ,  1.        ],\n",
       "       [ 0.04318523, -0.18811399, -1.65090196,  0.        ,  1.        ,\n",
       "         1.        ,  0.        ,  0.        ],\n",
       "       [-0.5849636 ,  1.53677563,  0.29934853,  1.        ,  0.        ,\n",
       "         0.        ,  0.        ,  1.        ],\n",
       "       [-0.2080743 ,  0.27940355,  0.27097705,  1.        ,  0.        ,\n",
       "         0.        ,  0.        ,  1.        ]])"
      ]
     },
     "execution_count": 43,
     "metadata": {},
     "output_type": "execute_result"
    }
   ],
   "source": [
    "X_test"
   ]
  },
  {
   "cell_type": "markdown",
   "metadata": {},
   "source": [
    "### Defining models"
   ]
  },
  {
   "cell_type": "code",
   "execution_count": 44,
   "metadata": {},
   "outputs": [],
   "source": [
    "models = {\n",
    "    \"Linear Regression\": LinearRegression(),\n",
    "    \"SVR\": SVR(),\n",
    "    \"Random Forest\": RandomForestRegressor()\n",
    "}"
   ]
  },
  {
   "cell_type": "markdown",
   "metadata": {},
   "source": [
    "### Training the models"
   ]
  },
  {
   "cell_type": "code",
   "execution_count": 45,
   "metadata": {},
   "outputs": [],
   "source": [
    "results = {}\n",
    "for model_name, model in models.items():\n",
    "    model.fit(X_train, y_train)\n",
    "    y_pred = model.predict(X_test)\n",
    "    mse = mean_squared_error(y_test, y_pred)\n",
    "    r2 = r2_score(y_test, y_pred)\n",
    "    results[model_name] = {\"MSE\": mse, \"R2\": r2}"
   ]
  },
  {
   "cell_type": "markdown",
   "metadata": {},
   "source": [
    "### Results"
   ]
  },
  {
   "cell_type": "code",
   "execution_count": 46,
   "metadata": {},
   "outputs": [
    {
     "data": {
      "text/plain": [
       "{'Linear Regression': {'MSE': 76611.17664551477, 'R2': 0.09344064194424617},\n",
       " 'SVR': {'MSE': 92964.72458529609, 'R2': -0.10007501166358956},\n",
       " 'Random Forest': {'MSE': 119559.00837928147, 'R2': -0.4147718731382972}}"
      ]
     },
     "execution_count": 46,
     "metadata": {},
     "output_type": "execute_result"
    }
   ],
   "source": [
    "results"
   ]
  }
 ],
 "metadata": {
  "kernelspec": {
   "display_name": "Python 3",
   "language": "python",
   "name": "python3"
  },
  "language_info": {
   "codemirror_mode": {
    "name": "ipython",
    "version": 3
   },
   "file_extension": ".py",
   "mimetype": "text/x-python",
   "name": "python",
   "nbconvert_exporter": "python",
   "pygments_lexer": "ipython3",
   "version": "3.11.5"
  }
 },
 "nbformat": 4,
 "nbformat_minor": 2
}
