{
 "cells": [
  {
   "cell_type": "code",
   "execution_count": 17,
   "metadata": {},
   "outputs": [],
   "source": [
    "import numpy as np"
   ]
  },
  {
   "cell_type": "code",
   "execution_count": 45,
   "metadata": {},
   "outputs": [],
   "source": [
    "class KNearestNeighbour():\n",
    "    def __init__(self,K):\n",
    "        self.K = K\n",
    "\n",
    "    def train(self,X,y):\n",
    "        self.X_train = X\n",
    "        self.y_train = y\n",
    "\n",
    "    def predict(self,X_test,num_loops):\n",
    "\n",
    "        if num_loops == 2:\n",
    "            distances = self.compute_distance_two_loops(X_test) \n",
    "            return self.predict_labels(distances)\n",
    "        \n",
    "        elif num_loops == 1:\n",
    "            distances = self.compute_distance_one_loops(X_test) \n",
    "            return self.predict_labels(distances)\n",
    "\n",
    "    def compute_distance_one_loops(self,X_test):\n",
    "        num_test = X_test.shape[0]\n",
    "        num_train = self.X_train.shape[0]\n",
    "        distances = np.zeros((num_test,num_train))\n",
    "\n",
    "        for i in range(num_test):\n",
    "\n",
    "            # example:\n",
    "            # self.X_train = [[1, 2, 3],\n",
    "                # [4, 5, 6],\n",
    "                # [7, 8, 9],\n",
    "                # [10, 11, 12]]\n",
    "\n",
    "            # X_test[0,:] = [2, 2, 2]\n",
    "\n",
    "            # self.X_train[i,:] - X_test[i,:](AUTOMATIC BROADCASTING) =\n",
    "            # [[ 1,  2,  3],    [[2, 2, 2],\n",
    "            # [ 4,  5,  6],  -  [2, 2, 2],\n",
    "            # [ 7,  8,  9],     [2, 2, 2],\n",
    "            # [10, 11, 12]]     [2, 2, 2]]\n",
    "\n",
    "            distances[i,:] = np.sqrt(np.sum((self.X_train - X_test[i,:])**2,axis=1))\n",
    "            # axis = 1 means sum along the second axis for higher-dimensional arrays\n",
    "            # will result in 1D np array (second dim removed as only contains 1 element each)\n",
    "            # (N,1) -> N\n",
    "\n",
    "        return distances\n",
    "    \n",
    "    \n",
    "    def compute_distance_two_loops(self,X_test):\n",
    "        # X_test -> number of samples, number of attributes\n",
    "        # X_train -> number of samples, number of attributes\n",
    "        num_test = X_test.shape[0]\n",
    "        num_train = self.X_train.shape[0]\n",
    "        distances = np.zeros((num_test,num_train))\n",
    "\n",
    "        for i in range(num_test):\n",
    "            for j in range(num_train):\n",
    "                distances[i,j] = np.sqrt(np.sum((X_test[i,:] - self.X_train[j,:])**2))\n",
    "\n",
    "        return distances\n",
    "\n",
    "    def predict_labels(self,distances):\n",
    "        num_test = distances.shape[0]\n",
    "        y_pred = np.zeros(num_test)\n",
    "\n",
    "        for i in range(num_test):\n",
    "            # returns indices according to value\n",
    "            # eg; [18, 68,  8, 78, 88] -> array([2, 0, 1, 3, 4], dtype=int64)\n",
    "            y_indices = np.argsort(distances[i,:]) \n",
    "            k_closest_classes = self.y_train[y_indices[:self.K]].astype(int) # get labels for closest k neighbours\n",
    "\n",
    "            # what bincount does : [1,1,3,4,3,3] -> [0,2,0,3,1]\n",
    "            # argmax does : [0,2,0,3,1] -> 3\n",
    "            y_pred[i] = np.argmax(np.bincount(k_closest_classes))\n",
    "\n",
    "        return y_pred"
   ]
  },
  {
   "cell_type": "code",
   "execution_count": 46,
   "metadata": {},
   "outputs": [
    {
     "name": "stdout",
     "output_type": "stream",
     "text": [
      "accuracy: 0.9333333333333333\n"
     ]
    }
   ],
   "source": [
    "if __name__ == \"__main__\":\n",
    "    X = np.loadtxt(\"example_data/data.txt\",delimiter=\",\")\n",
    "    y = np.loadtxt(\"example_data/targets.txt\",delimiter=\",\")\n",
    "    KNN = KNearestNeighbour(K=3)\n",
    "    KNN.train(X,y)\n",
    "    y_pred = KNN.predict(X,num_loops=1)\n",
    "\n",
    "    # y_pred==y gives True, False at each index : array([False,  True, False,  True,  True, True,  True,  True])\n",
    "    print(f'accuracy: {sum(y_pred==y)/y.shape[0]}')"
   ]
  }
 ],
 "metadata": {
  "kernelspec": {
   "display_name": "Python 3",
   "language": "python",
   "name": "python3"
  },
  "language_info": {
   "codemirror_mode": {
    "name": "ipython",
    "version": 3
   },
   "file_extension": ".py",
   "mimetype": "text/x-python",
   "name": "python",
   "nbconvert_exporter": "python",
   "pygments_lexer": "ipython3",
   "version": "3.11.5"
  }
 },
 "nbformat": 4,
 "nbformat_minor": 2
}
