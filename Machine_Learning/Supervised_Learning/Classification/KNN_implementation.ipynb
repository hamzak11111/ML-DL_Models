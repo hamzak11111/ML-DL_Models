{
 "cells": [
  {
   "cell_type": "code",
   "execution_count": 1,
   "metadata": {},
   "outputs": [],
   "source": [
    "import numpy as np"
   ]
  },
  {
   "cell_type": "code",
   "execution_count": 1,
   "metadata": {},
   "outputs": [],
   "source": [
    "class KNearestNeighbour():\n",
    "    def __init__(self,K):\n",
    "        self.K = K\n",
    "\n",
    "    def train(self,X,y):\n",
    "        self.X_train = X\n",
    "        self.y_train = y\n",
    "\n",
    "    def predict(self,X_test):\n",
    "        distances = self.compute_distance(X_test) \n",
    "        return self.predict_labels(distances)\n",
    "\n",
    "    def compute_distance(self,X_test):\n",
    "        num_test = X_test.shape[0]\n",
    "        num_train = self.X_train.shape[0]\n",
    "        distances = np.zeros((num_test,num_train))\n",
    "\n",
    "        for i in range(num_test):\n",
    "            for j in range(num_train):\n",
    "                distances[i,j] = np.sqrt(np.sum((X_test[i,:] - self.X_train[j,:])**2))\n",
    "\n",
    "        return distances\n",
    "\n",
    "    def predict_labels(self,distances):\n",
    "        num_test = distances.shape[0]\n",
    "        y_pred = np.zeros(num_test)\n",
    "\n",
    "        for i in range(num_test):\n",
    "            # returns indices according to value\n",
    "            # eg; [18, 68,  8, 78, 88] -> array([2, 0, 1, 3, 4], dtype=int64)\n",
    "            y_indices = np.argsort(distances[i,:]) \n",
    "            k_closest_classes = self.y_train[y_indices[:self.K]].astype(int)\n",
    "\n",
    "            # [1,1,3,4,3,3] -> [0,2,0,3,1]\n",
    "            y_pred[i] = np.bincount(k_closest_classes)"
   ]
  },
  {
   "cell_type": "code",
   "execution_count": null,
   "metadata": {},
   "outputs": [],
   "source": [
    "if __name__ == \"main\":\n",
    "    pass"
   ]
  }
 ],
 "metadata": {
  "kernelspec": {
   "display_name": "Python 3",
   "language": "python",
   "name": "python3"
  },
  "language_info": {
   "codemirror_mode": {
    "name": "ipython",
    "version": 3
   },
   "file_extension": ".py",
   "mimetype": "text/x-python",
   "name": "python",
   "nbconvert_exporter": "python",
   "pygments_lexer": "ipython3",
   "version": "3.11.5"
  }
 },
 "nbformat": 4,
 "nbformat_minor": 2
}
