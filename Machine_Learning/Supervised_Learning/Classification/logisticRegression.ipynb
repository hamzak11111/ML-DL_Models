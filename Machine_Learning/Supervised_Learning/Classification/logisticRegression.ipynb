{
 "cells": [
  {
   "cell_type": "code",
   "execution_count": 1,
   "metadata": {},
   "outputs": [],
   "source": [
    "import numpy as np\n",
    "from sklearn.datasets import make_blobs"
   ]
  },
  {
   "cell_type": "code",
   "execution_count": 9,
   "metadata": {},
   "outputs": [],
   "source": [
    "# formula -> sigmoid(x * W + b)\n",
    "class losgisticRegression():\n",
    "    def __init__(self,X,learning_rate=0.1,num_iters=1000):\n",
    "        self.lr = learning_rate\n",
    "        self.num_iters = num_iters\n",
    "        self.m, self.n = X.shape\n",
    "\n",
    "    def train(self,X,y):\n",
    "        self.weights = np.zeros((self.n,1))\n",
    "        self.bias = 0\n",
    "\n",
    "        for it in range(self.num_iters):\n",
    "            y_predict = self.sigmoid(np.dot(X,self.weights)+self.bias)\n",
    "\n",
    "            cost = -1/self.m * np.sum(y*np.log(y_predict)+(1-y)*np.log(1-y_predict)) \n",
    "\n",
    "            dw = 1/self.m * np.dot(X.T,(y_predict-y))\n",
    "            db = 1/self.m * np.sum(y_predict-y)\n",
    "\n",
    "            self.weights -= self.lr*dw\n",
    "            self.bias -= self.lr * db\n",
    "\n",
    "    def predict(self,X):\n",
    "        y_predict = self.sigmoid(np.dot(X,self.weights)+self.bias)\n",
    "        y_predict_labels = y_predict > 0.5 # returns true where values are > 0.5\n",
    "        return y_predict_labels\n",
    "\n",
    "    def sigmoid(self,z):\n",
    "        return 1/(1+np.exp(-z))"
   ]
  },
  {
   "cell_type": "code",
   "execution_count": 14,
   "metadata": {},
   "outputs": [
    {
     "name": "stderr",
     "output_type": "stream",
     "text": [
      "C:\\Users\\Hamza\\AppData\\Local\\Temp\\ipykernel_4896\\2330003769.py:29: RuntimeWarning: overflow encountered in exp\n",
      "  return 1/(1+np.exp(-z))\n",
      "C:\\Users\\Hamza\\AppData\\Local\\Temp\\ipykernel_4896\\2330003769.py:15: RuntimeWarning: divide by zero encountered in log\n",
      "  cost = -1/self.m * np.sum(y*np.log(y_predict)+(1-y)*np.log(1-y_predict))\n",
      "C:\\Users\\Hamza\\AppData\\Local\\Temp\\ipykernel_4896\\2330003769.py:15: RuntimeWarning: invalid value encountered in multiply\n",
      "  cost = -1/self.m * np.sum(y*np.log(y_predict)+(1-y)*np.log(1-y_predict))\n"
     ]
    }
   ],
   "source": [
    "if __name__ == \"__main__\":\n",
    "    np.random.seed()\n",
    "    X,y = make_blobs(n_features=1000,centers=2)\n",
    "    y = y.reshape(-1,1)\n",
    "\n",
    "    lg = losgisticRegression(X,0.1,1000)\n",
    "    lg.train(X,y)\n",
    "    labels = lg.predict(X)"
   ]
  },
  {
   "cell_type": "code",
   "execution_count": 24,
   "metadata": {},
   "outputs": [
    {
     "data": {
      "text/plain": [
       "100.0"
      ]
     },
     "execution_count": 24,
     "metadata": {},
     "output_type": "execute_result"
    }
   ],
   "source": [
    "# gives true where y=1 and labels = true, false where vice versa\n",
    "(sum((y == labels ))/y.shape[0] * 100)[0]"
   ]
  }
 ],
 "metadata": {
  "kernelspec": {
   "display_name": "Python 3",
   "language": "python",
   "name": "python3"
  },
  "language_info": {
   "codemirror_mode": {
    "name": "ipython",
    "version": 3
   },
   "file_extension": ".py",
   "mimetype": "text/x-python",
   "name": "python",
   "nbconvert_exporter": "python",
   "pygments_lexer": "ipython3",
   "version": "3.11.5"
  }
 },
 "nbformat": 4,
 "nbformat_minor": 2
}
