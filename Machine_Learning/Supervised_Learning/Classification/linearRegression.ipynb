{
 "cells": [
  {
   "cell_type": "code",
   "execution_count": 1,
   "metadata": {},
   "outputs": [],
   "source": [
    "import numpy as np"
   ]
  },
  {
   "cell_type": "code",
   "execution_count": 6,
   "metadata": {},
   "outputs": [],
   "source": [
    "import numpy as np\n",
    "\n",
    "class linearRegression():\n",
    "    def __init__(self):\n",
    "        self.lr = 0.01\n",
    "        self.total_iterations = 10000\n",
    "\n",
    "    def yhat(self, X, w):\n",
    "        return np.dot(w.T, X)\n",
    "\n",
    "    def loss(self, yhat, y):\n",
    "        L = 1/self.m * np.sum(np.power(yhat - y, 2))\n",
    "        return L\n",
    "\n",
    "    def gradient_descent(self, w, X, y, yhat):\n",
    "        dldw = 2/self.m * np.dot(X, (yhat - y).T)\n",
    "        w = w - self.lr * dldw\n",
    "        return w\n",
    "\n",
    "    def main(self, X, y):\n",
    "        x1 = np.ones((1, X.shape[1]))\n",
    "        X = np.append(X, x1, axis=0)\n",
    "\n",
    "        self.m, self.n = X.shape[1], X.shape[0]\n",
    "\n",
    "        w = np.zeros((self.n, 1))\n",
    "\n",
    "        for it in range(self.total_iterations + 1):\n",
    "            yhat = self.yhat(X, w)\n",
    "            loss = self.loss(yhat, y)\n",
    "\n",
    "            if it % 2000 == 0:\n",
    "                print(f'cost at iterations {it} is {loss}')\n",
    "\n",
    "            w = self.gradient_descent(w, X, y, yhat)\n",
    "\n",
    "        return w"
   ]
  },
  {
   "cell_type": "code",
   "execution_count": 7,
   "metadata": {},
   "outputs": [
    {
     "name": "stdout",
     "output_type": "stream",
     "text": [
      "cost at iterations 0 is 2.9693291777295006\n",
      "cost at iterations 2000 is 0.012367178359867056\n",
      "cost at iterations 4000 is 0.01019506524379586\n",
      "cost at iterations 6000 is 0.01018498767714766\n",
      "cost at iterations 8000 is 0.010184940922055212\n",
      "cost at iterations 10000 is 0.010184940705133932\n",
      "Final weights: [[2.99655957e+00]\n",
      " [3.10827030e-04]]\n"
     ]
    }
   ],
   "source": [
    "if __name__ == \"__main__\":\n",
    "    X = np.random.rand(1, 500)\n",
    "    y = 3 * X + np.random.randn(1, 500) * 0.1\n",
    "    regression = linearRegression()\n",
    "    w = regression.main(X, y)\n",
    "    print(\"Final weights:\", w)"
   ]
  }
 ],
 "metadata": {
  "kernelspec": {
   "display_name": "Python 3",
   "language": "python",
   "name": "python3"
  },
  "language_info": {
   "codemirror_mode": {
    "name": "ipython",
    "version": 3
   },
   "file_extension": ".py",
   "mimetype": "text/x-python",
   "name": "python",
   "nbconvert_exporter": "python",
   "pygments_lexer": "ipython3",
   "version": "3.11.5"
  }
 },
 "nbformat": 4,
 "nbformat_minor": 2
}
