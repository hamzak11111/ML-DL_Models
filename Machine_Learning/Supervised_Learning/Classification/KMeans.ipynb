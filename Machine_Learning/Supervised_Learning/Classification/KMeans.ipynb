{
 "cells": [
  {
   "cell_type": "code",
   "execution_count": 1,
   "metadata": {},
   "outputs": [],
   "source": [
    "import numpy as np"
   ]
  },
  {
   "cell_type": "code",
   "execution_count": 103,
   "metadata": {},
   "outputs": [],
   "source": [
    "class KMeans():\n",
    "    def __init__(self, n_centroids,distance=\"eucledian\",max_iter=1000):\n",
    "        self.n_centriods = n_centroids\n",
    "        self.iterations = max_iter\n",
    "        self.centroids = 0\n",
    "\n",
    "    def get_centroids(self):\n",
    "        return self.centroids\n",
    "\n",
    "        \n",
    "    def compute_distances(self,X):\n",
    "        samples = X.shape[0]\n",
    "        features = X.shape[1]\n",
    "        centroids = np.random.rand(self.n_centriods,features)\n",
    "        print(centroids)\n",
    "        for it in range(self.iterations):\n",
    "\n",
    "            lis = [[] for _ in range(self.n_centriods)]\n",
    "            output = np.zeros((samples,self.n_centriods))\n",
    "            for i in range(samples):\n",
    "                for j in range(self.n_centriods):\n",
    "                    output[i,j] = sum((X[i,:] - centroids[j,:])**2)\n",
    "\n",
    "                lis[np.argmin(output[i,:])].append(X[i,:])\n",
    "\n",
    "            for i in range(centroids.shape[0]):\n",
    "                centroids[i,:] = np.mean(lis[i], axis=0)\n",
    "\n",
    "        \n",
    "        self.centroids = centroids"
   ]
  },
  {
   "cell_type": "code",
   "execution_count": 104,
   "metadata": {},
   "outputs": [
    {
     "name": "stdout",
     "output_type": "stream",
     "text": [
      "[[0.33515363 0.10153459 0.27056983 0.67718923 0.51012562]\n",
      " [0.51003317 0.37717044 0.95934713 0.20234759 0.42550482]\n",
      " [0.01824159 0.52181334 0.67744702 0.65889168 0.47534307]]\n",
      "[[0.58441862 0.39394329 0.14359367 0.70459217 0.22477647]\n",
      " [0.55679626 0.42751225 0.85238337 0.24199053 0.63585805]\n",
      " [0.23887297 0.68871644 0.36096531 0.27209281 0.72624301]]\n"
     ]
    }
   ],
   "source": [
    "if __name__ == \"__main__\":\n",
    "    X = np.random.rand(10,5)\n",
    "\n",
    "    kmeans = KMeans(n_centroids=3)\n",
    "    kmeans.compute_distances(X)\n",
    "    print(kmeans.get_centroids())"
   ]
  },
  {
   "cell_type": "markdown",
   "metadata": {},
   "source": [
    "# NOTE:\n",
    "### It's wrong to initialie lis using [[]] * self.n_centriods. This creates a list with self.n_centriods references to the same empty list []. When you append data to lis[indexes[0]], you are actually appending to the same list referenced by all lis[i] elements. This results in incorrect clustering and centroid computation."
   ]
  },
  {
   "cell_type": "code",
   "execution_count": 108,
   "metadata": {},
   "outputs": [
    {
     "data": {
      "text/plain": [
       "[[9], [], [], [], []]"
      ]
     },
     "execution_count": 108,
     "metadata": {},
     "output_type": "execute_result"
    }
   ],
   "source": [
    "lis = [[] for _ in range(5)]\n",
    "lis[0].append(9)\n",
    "lis"
   ]
  },
  {
   "cell_type": "code",
   "execution_count": 109,
   "metadata": {},
   "outputs": [
    {
     "data": {
      "text/plain": [
       "[[9], [9], [9], [9], [9]]"
      ]
     },
     "execution_count": 109,
     "metadata": {},
     "output_type": "execute_result"
    }
   ],
   "source": [
    "lis = [[]] * 5\n",
    "lis[0].append(9)\n",
    "lis"
   ]
  }
 ],
 "metadata": {
  "kernelspec": {
   "display_name": "Python 3",
   "language": "python",
   "name": "python3"
  },
  "language_info": {
   "codemirror_mode": {
    "name": "ipython",
    "version": 3
   },
   "file_extension": ".py",
   "mimetype": "text/x-python",
   "name": "python",
   "nbconvert_exporter": "python",
   "pygments_lexer": "ipython3",
   "version": "3.11.5"
  }
 },
 "nbformat": 4,
 "nbformat_minor": 2
}
