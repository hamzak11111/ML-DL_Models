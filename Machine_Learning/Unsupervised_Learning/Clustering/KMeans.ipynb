{
 "cells": [
  {
   "cell_type": "code",
   "execution_count": 162,
   "metadata": {},
   "outputs": [],
   "source": [
    "import numpy as np"
   ]
  },
  {
   "cell_type": "code",
   "execution_count": 168,
   "metadata": {},
   "outputs": [],
   "source": [
    "class KMeans():\n",
    "    def __init__(self, n_centroids,distance=\"eucledian\",max_iter=1000):\n",
    "        self.n_centriods = n_centroids\n",
    "        self.iterations = max_iter\n",
    "        self.centroids = 0\n",
    "\n",
    "    def get_centroids(self):\n",
    "        return self.centroids\n",
    "\n",
    "        \n",
    "    def compute_distances(self,X):\n",
    "        samples = X.shape[0]\n",
    "        features = X.shape[1]\n",
    "        centroids = X[np.random.choice(samples, self.n_centriods, replace=False)]\n",
    "\n",
    "        for it in range(self.iterations):\n",
    "\n",
    "            lis = [[] for _ in range(self.n_centriods)]\n",
    "            output = np.zeros((samples,self.n_centriods))\n",
    "            for i in range(samples):\n",
    "                for j in range(self.n_centriods):\n",
    "                    output[i,j] = sum((X[i,:] - centroids[j,:])**2)\n",
    "\n",
    "                lis[np.argmin(output[i,:])].append(X[i,:])\n",
    "\n",
    "            for i in range(centroids.shape[0]):\n",
    "                if lis[i]:\n",
    "                    centroids[i,:] = np.mean(lis[i], axis=0)\n",
    "\n",
    "        \n",
    "        self.centroids = centroids"
   ]
  },
  {
   "cell_type": "code",
   "execution_count": 170,
   "metadata": {},
   "outputs": [
    {
     "name": "stdout",
     "output_type": "stream",
     "text": [
      "[[0.78618042 0.67615685 0.16957055 0.14123229 0.49837941]\n",
      " [0.22859668 0.32964932 0.2391232  0.76447881 0.22193776]\n",
      " [0.17795146 0.51505165 0.82910281 0.49197479 0.21873212]\n",
      " [0.7896349  0.28922562 0.62681243 0.34597859 0.37391797]\n",
      " [0.6431351  0.25487006 0.58482922 0.72165537 0.91053399]]\n"
     ]
    }
   ],
   "source": [
    "if __name__ == \"__main__\":\n",
    "    X = np.random.rand(15,5)\n",
    "\n",
    "    kmeans = KMeans(n_centroids=5)\n",
    "    kmeans.compute_distances(X)\n",
    "    print(kmeans.get_centroids())"
   ]
  },
  {
   "cell_type": "markdown",
   "metadata": {},
   "source": [
    "# NOTE:\n",
    "### It's wrong to initialie lis using [[]] * self.n_centriods. This creates a list with self.n_centriods references to the same empty list []. When you append data to lis[indexes[0]], you are actually appending to the same list referenced by all lis[i] elements. This results in incorrect clustering and centroid computation."
   ]
  },
  {
   "cell_type": "code",
   "execution_count": 165,
   "metadata": {},
   "outputs": [
    {
     "data": {
      "text/plain": [
       "[[9], [], [], [], []]"
      ]
     },
     "execution_count": 165,
     "metadata": {},
     "output_type": "execute_result"
    }
   ],
   "source": [
    "lis = [[] for _ in range(5)]\n",
    "lis[0].append(9)\n",
    "lis"
   ]
  },
  {
   "cell_type": "code",
   "execution_count": 166,
   "metadata": {},
   "outputs": [
    {
     "data": {
      "text/plain": [
       "[[9], [9], [9], [9], [9]]"
      ]
     },
     "execution_count": 166,
     "metadata": {},
     "output_type": "execute_result"
    }
   ],
   "source": [
    "lis = [[]] * 5\n",
    "lis[0].append(9)\n",
    "lis"
   ]
  }
 ],
 "metadata": {
  "kernelspec": {
   "display_name": "Python 3",
   "language": "python",
   "name": "python3"
  },
  "language_info": {
   "codemirror_mode": {
    "name": "ipython",
    "version": 3
   },
   "file_extension": ".py",
   "mimetype": "text/x-python",
   "name": "python",
   "nbconvert_exporter": "python",
   "pygments_lexer": "ipython3",
   "version": "3.11.5"
  }
 },
 "nbformat": 4,
 "nbformat_minor": 2
}
