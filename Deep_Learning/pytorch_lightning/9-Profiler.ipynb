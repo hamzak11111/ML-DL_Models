{
 "cells": [
  {
   "cell_type": "code",
   "execution_count": null,
   "metadata": {},
   "outputs": [],
   "source": []
  },
  {
   "cell_type": "markdown",
   "metadata": {},
   "source": [
    "##### In PyTorch Lightning, a profiler is a tool used to measure and analyze the performance of your model during training. Profiling helps you understand how much time is spent on different parts of your training loop, allowing you to identify bottlenecks and optimize performance.\n",
    "\n",
    "##### Key Features of Profiling in PyTorch Lightning:\n",
    "##### Performance Measurement: Profiling provides detailed insights into the time taken by various components of your training process, such as data loading, forward pass, backward pass, and optimizer steps.\n",
    "\n",
    "##### Resource Utilization: It helps in understanding GPU and CPU utilization, which can be crucial for optimizing hardware usage and improving training efficiency.\n",
    "\n",
    "##### Debugging: Profiling can help identify inefficiencies and areas where the code might be running slower than expected, which is valuable for debugging performance issues.\n",
    "\n",
    "##### How to Use Profiler in PyTorch Lightning\n",
    "##### PyTorch Lightning offers integration with various profiling tools. Here's a simple example of how to use the built-in profiler to measure performance."
   ]
  },
  {
   "cell_type": "code",
   "execution_count": 5,
   "metadata": {},
   "outputs": [
    {
     "ename": "ModuleNotFoundError",
     "evalue": "No module named 'pytorch_lightning.profiler'",
     "output_type": "error",
     "traceback": [
      "\u001b[1;31m---------------------------------------------------------------------------\u001b[0m",
      "\u001b[1;31mModuleNotFoundError\u001b[0m                       Traceback (most recent call last)",
      "Cell \u001b[1;32mIn[5], line 5\u001b[0m\n\u001b[0;32m      3\u001b[0m \u001b[38;5;28;01mfrom\u001b[39;00m \u001b[38;5;21;01mtorch\u001b[39;00m \u001b[38;5;28;01mimport\u001b[39;00m nn\n\u001b[0;32m      4\u001b[0m \u001b[38;5;28;01mfrom\u001b[39;00m \u001b[38;5;21;01mtorch\u001b[39;00m\u001b[38;5;21;01m.\u001b[39;00m\u001b[38;5;21;01mutils\u001b[39;00m\u001b[38;5;21;01m.\u001b[39;00m\u001b[38;5;21;01mdata\u001b[39;00m \u001b[38;5;28;01mimport\u001b[39;00m DataLoader, random_split, TensorDataset\n\u001b[1;32m----> 5\u001b[0m \u001b[38;5;28;01mfrom\u001b[39;00m \u001b[38;5;21;01mpytorch_lightning\u001b[39;00m\u001b[38;5;21;01m.\u001b[39;00m\u001b[38;5;21;01mprofiler\u001b[39;00m \u001b[38;5;28;01mimport\u001b[39;00m AdvancedProfiler\n",
      "\u001b[1;31mModuleNotFoundError\u001b[0m: No module named 'pytorch_lightning.profiler'"
     ]
    }
   ],
   "source": [
    "import pytorch_lightning as pl\n",
    "import torch\n",
    "from torch import nn\n",
    "from torch.utils.data import DataLoader, random_split, TensorDataset\n",
    "from pytorch_lightning.profiler import AdvancedProfiler"
   ]
  },
  {
   "cell_type": "code",
   "execution_count": null,
   "metadata": {},
   "outputs": [],
   "source": [
    "class SimpleModel(pl.LightningModule):\n",
    "    def __init__(self):\n",
    "        super(SimpleModel, self).__init__()\n",
    "        self.layer = nn.Linear(28*28, 10)  # Example for MNIST dataset\n",
    "        self.criterion = nn.CrossEntropyLoss()\n",
    "    \n",
    "    def forward(self, x):\n",
    "        return self.layer(x.view(x.size(0), -1))\n",
    "    \n",
    "    def training_step(self, batch, batch_idx):\n",
    "        x, y = batch\n",
    "        y_hat = self(x)\n",
    "        loss = self.criterion(y_hat, y)\n",
    "        return loss\n",
    "    \n",
    "    def configure_optimizers(self):\n",
    "        return torch.optim.Adam(self.parameters(), lr=0.001)"
   ]
  },
  {
   "cell_type": "code",
   "execution_count": null,
   "metadata": {},
   "outputs": [],
   "source": [
    "def create_data():\n",
    "    # Dummy data: 1000 samples, 28x28 images (flattened to 784 features), 10 classes\n",
    "    x = torch.randn(1000, 28*28)\n",
    "    y = torch.randint(0, 10, (1000,))\n",
    "    dataset = TensorDataset(x, y)\n",
    "    return random_split(dataset, [800, 200])\n",
    "\n",
    "train_dataset, val_dataset = create_data()"
   ]
  },
  {
   "cell_type": "code",
   "execution_count": null,
   "metadata": {},
   "outputs": [],
   "source": [
    "train_loader = DataLoader(train_dataset, batch_size=32, shuffle=True)\n",
    "val_loader = DataLoader(val_dataset, batch_size=32)"
   ]
  },
  {
   "cell_type": "code",
   "execution_count": null,
   "metadata": {},
   "outputs": [],
   "source": [
    "model = SimpleModel()\n",
    "\n",
    "# Set up the profiler\n",
    "profiler = PyTorchProfiler(\n",
    "    # Specify the profiling mode\n",
    "    # 'simple' for basic profiling\n",
    "    # 'advanced' for more detailed profiling\n",
    "    # 'simple' by default\n",
    "    # Use 'advanced' for a more detailed profile\n",
    "    profile_mode='simple'\n",
    ")\n",
    "\n",
    "# Initialize the Trainer with the profiler\n",
    "trainer = pl.Trainer(\n",
    "    max_epochs=5,\n",
    "    profiler=profiler\n",
    ")"
   ]
  },
  {
   "cell_type": "code",
   "execution_count": null,
   "metadata": {},
   "outputs": [],
   "source": [
    "trainer.fit(model, train_dataloaders=train_loader, val_dataloaders=val_loader)\n",
    "\n",
    "# Print the profiling results\n",
    "print(profiler.summary())"
   ]
  }
 ],
 "metadata": {
  "kernelspec": {
   "display_name": "Python 3",
   "language": "python",
   "name": "python3"
  },
  "language_info": {
   "codemirror_mode": {
    "name": "ipython",
    "version": 3
   },
   "file_extension": ".py",
   "mimetype": "text/x-python",
   "name": "python",
   "nbconvert_exporter": "python",
   "pygments_lexer": "ipython3",
   "version": "3.11.5"
  }
 },
 "nbformat": 4,
 "nbformat_minor": 2
}
