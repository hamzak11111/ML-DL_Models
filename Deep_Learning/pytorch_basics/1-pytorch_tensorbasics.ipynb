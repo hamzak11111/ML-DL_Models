{
 "cells": [
  {
   "cell_type": "code",
   "execution_count": 4,
   "metadata": {},
   "outputs": [],
   "source": [
    "import torch\n",
    "import numpy as np"
   ]
  },
  {
   "cell_type": "code",
   "execution_count": 5,
   "metadata": {},
   "outputs": [],
   "source": [
    "device = \"cuda\" if torch.cuda.is_available() else \"cpu\"  # Cuda to run on GPU!"
   ]
  },
  {
   "cell_type": "markdown",
   "metadata": {},
   "source": [
    "### Initializing Tensors"
   ]
  },
  {
   "cell_type": "code",
   "execution_count": 6,
   "metadata": {},
   "outputs": [
    {
     "data": {
      "text/plain": [
       "tensor([[1., 2., 3.],\n",
       "        [4., 5., 6.]], requires_grad=True)"
      ]
     },
     "execution_count": 6,
     "metadata": {},
     "output_type": "execute_result"
    }
   ],
   "source": [
    "my_tensor = torch.tensor([[1, 2, 3], [4, 5, 6]], dtype=torch.float32, device=device, requires_grad=True)\n",
    "my_tensor"
   ]
  },
  {
   "cell_type": "code",
   "execution_count": 7,
   "metadata": {},
   "outputs": [
    {
     "data": {
      "text/plain": [
       "tensor([[1.3020e+10, 1.2766e-42, 0.0000e+00],\n",
       "        [0.0000e+00, 0.0000e+00, 0.0000e+00],\n",
       "        [0.0000e+00, 0.0000e+00, 0.0000e+00]])"
      ]
     },
     "execution_count": 7,
     "metadata": {},
     "output_type": "execute_result"
    }
   ],
   "source": [
    "torch.empty(size=(3, 3)) # data of memory unchanged"
   ]
  },
  {
   "cell_type": "code",
   "execution_count": 8,
   "metadata": {},
   "outputs": [
    {
     "data": {
      "text/plain": [
       "tensor([[0., 0., 0.],\n",
       "        [0., 0., 0.],\n",
       "        [0., 0., 0.]])"
      ]
     },
     "execution_count": 8,
     "metadata": {},
     "output_type": "execute_result"
    }
   ],
   "source": [
    "torch.zeros((3, 3)) # tensor of zeros initialized"
   ]
  },
  {
   "cell_type": "code",
   "execution_count": 9,
   "metadata": {},
   "outputs": [
    {
     "data": {
      "text/plain": [
       "tensor([[0.5302, 0.2642, 0.5809],\n",
       "        [0.6712, 0.7531, 0.9528],\n",
       "        [0.4710, 0.4737, 0.6639]])"
      ]
     },
     "execution_count": 9,
     "metadata": {},
     "output_type": "execute_result"
    }
   ],
   "source": [
    "torch.rand((3, 3)) # matrix with random values initialized"
   ]
  },
  {
   "cell_type": "code",
   "execution_count": 10,
   "metadata": {},
   "outputs": [
    {
     "data": {
      "text/plain": [
       "tensor([[1., 1., 1.],\n",
       "        [1., 1., 1.],\n",
       "        [1., 1., 1.]])"
      ]
     },
     "execution_count": 10,
     "metadata": {},
     "output_type": "execute_result"
    }
   ],
   "source": [
    "torch.ones((3, 3)) # matrix with ones initialized"
   ]
  },
  {
   "cell_type": "code",
   "execution_count": 11,
   "metadata": {},
   "outputs": [
    {
     "data": {
      "text/plain": [
       "tensor([[1., 0., 0., 0., 0.],\n",
       "        [0., 1., 0., 0., 0.],\n",
       "        [0., 0., 1., 0., 0.],\n",
       "        [0., 0., 0., 1., 0.],\n",
       "        [0., 0., 0., 0., 1.]])"
      ]
     },
     "execution_count": 11,
     "metadata": {},
     "output_type": "execute_result"
    }
   ],
   "source": [
    "torch.eye(5, 5) # Identity matrix initialized"
   ]
  },
  {
   "cell_type": "code",
   "execution_count": 17,
   "metadata": {},
   "outputs": [
    {
     "data": {
      "text/plain": [
       "tensor([0, 2, 4])"
      ]
     },
     "execution_count": 17,
     "metadata": {},
     "output_type": "execute_result"
    }
   ],
   "source": [
    "torch.arange(start=0, end=5, step=2)  # vector with start,end and step size initialized"
   ]
  },
  {
   "cell_type": "code",
   "execution_count": 13,
   "metadata": {},
   "outputs": [
    {
     "data": {
      "text/plain": [
       "tensor([0.1000, 0.2000, 0.3000, 0.4000, 0.5000, 0.6000, 0.7000, 0.8000, 0.9000,\n",
       "        1.0000])"
      ]
     },
     "execution_count": 13,
     "metadata": {},
     "output_type": "execute_result"
    }
   ],
   "source": [
    "torch.linspace(start=0.1, end=1, steps=10) # 10 values between 0.1 and 1 equally divided"
   ]
  },
  {
   "cell_type": "code",
   "execution_count": 14,
   "metadata": {},
   "outputs": [
    {
     "data": {
      "text/plain": [
       "tensor([[ 0.5316,  0.2451, -1.3502,  1.4384, -0.2892]])"
      ]
     },
     "execution_count": 14,
     "metadata": {},
     "output_type": "execute_result"
    }
   ],
   "source": [
    "torch.empty(size=(1, 5)).normal_(mean=0, std=1)"
   ]
  },
  {
   "cell_type": "code",
   "execution_count": 15,
   "metadata": {},
   "outputs": [
    {
     "data": {
      "text/plain": [
       "tensor([[0.3447, 0.5230, 0.4673, 0.4543, 0.4521]])"
      ]
     },
     "execution_count": 15,
     "metadata": {},
     "output_type": "execute_result"
    }
   ],
   "source": [
    "torch.empty(size=(1, 5)).uniform_(0, 1) "
   ]
  },
  {
   "cell_type": "code",
   "execution_count": 22,
   "metadata": {},
   "outputs": [
    {
     "data": {
      "text/plain": [
       "tensor([[0.5407, 0.0000, 0.0000],\n",
       "        [0.0000, 0.5317, 0.0000],\n",
       "        [0.0000, 0.0000, 0.1719]])"
      ]
     },
     "execution_count": 22,
     "metadata": {},
     "output_type": "execute_result"
    }
   ],
   "source": [
    "torch.diag(torch.rand(3)) # puts values of diagonal "
   ]
  },
  {
   "cell_type": "code",
   "execution_count": 23,
   "metadata": {},
   "outputs": [
    {
     "data": {
      "text/plain": [
       "tensor([0, 1, 2, 3])"
      ]
     },
     "execution_count": 23,
     "metadata": {},
     "output_type": "execute_result"
    }
   ],
   "source": [
    "torch.arange(4)"
   ]
  },
  {
   "cell_type": "markdown",
   "metadata": {},
   "source": [
    "### Convert numpy array to tensor and vice-versa"
   ]
  },
  {
   "cell_type": "code",
   "execution_count": null,
   "metadata": {},
   "outputs": [],
   "source": [
    "np_array = np.zeros((5, 5))\n",
    "tensor = torch.from_numpy(np_array)\n",
    "np_array_again = tensor.numpy()"
   ]
  },
  {
   "cell_type": "markdown",
   "metadata": {},
   "source": [
    "### Tensor Math & Comparison Operations"
   ]
  },
  {
   "cell_type": "code",
   "execution_count": 24,
   "metadata": {},
   "outputs": [
    {
     "name": "stdout",
     "output_type": "stream",
     "text": [
      "tensor([1, 2, 3]) tensor([9, 8, 7])\n"
     ]
    }
   ],
   "source": [
    "x = torch.tensor([1, 2, 3])\n",
    "y = torch.tensor([9, 8, 7])\n",
    "print(x,y)"
   ]
  },
  {
   "cell_type": "markdown",
   "metadata": {},
   "source": [
    "### Addition"
   ]
  },
  {
   "cell_type": "code",
   "execution_count": 28,
   "metadata": {},
   "outputs": [
    {
     "data": {
      "text/plain": [
       "tensor([10., 10., 10.])"
      ]
     },
     "execution_count": 28,
     "metadata": {},
     "output_type": "execute_result"
    }
   ],
   "source": [
    "z1 = torch.empty(3)\n",
    "torch.add(x, y, out=z1)\n",
    "z1"
   ]
  },
  {
   "cell_type": "code",
   "execution_count": 27,
   "metadata": {},
   "outputs": [
    {
     "data": {
      "text/plain": [
       "tensor([10, 10, 10])"
      ]
     },
     "execution_count": 27,
     "metadata": {},
     "output_type": "execute_result"
    }
   ],
   "source": [
    "z2 = torch.add(x, y)\n",
    "z2"
   ]
  },
  {
   "cell_type": "code",
   "execution_count": 26,
   "metadata": {},
   "outputs": [
    {
     "data": {
      "text/plain": [
       "tensor([10, 10, 10])"
      ]
     },
     "execution_count": 26,
     "metadata": {},
     "output_type": "execute_result"
    }
   ],
   "source": [
    "z = x + y\n",
    "z"
   ]
  },
  {
   "cell_type": "markdown",
   "metadata": {},
   "source": [
    "### Subtraction"
   ]
  },
  {
   "cell_type": "code",
   "execution_count": 29,
   "metadata": {},
   "outputs": [
    {
     "data": {
      "text/plain": [
       "tensor([-8, -6, -4])"
      ]
     },
     "execution_count": 29,
     "metadata": {},
     "output_type": "execute_result"
    }
   ],
   "source": [
    "z = x - y \n",
    "z"
   ]
  },
  {
   "cell_type": "markdown",
   "metadata": {},
   "source": [
    "### Division"
   ]
  },
  {
   "cell_type": "code",
   "execution_count": 30,
   "metadata": {},
   "outputs": [
    {
     "data": {
      "text/plain": [
       "tensor([0.1111, 0.2500, 0.4286])"
      ]
     },
     "execution_count": 30,
     "metadata": {},
     "output_type": "execute_result"
    }
   ],
   "source": [
    "z = torch.true_divide(x, y) \n",
    "z"
   ]
  },
  {
   "cell_type": "code",
   "execution_count": 31,
   "metadata": {},
   "outputs": [
    {
     "data": {
      "text/plain": [
       "tensor([0.1111, 0.2500, 0.4286])"
      ]
     },
     "execution_count": 31,
     "metadata": {},
     "output_type": "execute_result"
    }
   ],
   "source": [
    "x/y"
   ]
  },
  {
   "cell_type": "markdown",
   "metadata": {},
   "source": [
    "### Inplace Operations"
   ]
  },
  {
   "cell_type": "code",
   "execution_count": 32,
   "metadata": {},
   "outputs": [
    {
     "data": {
      "text/plain": [
       "tensor([1., 2., 3.])"
      ]
     },
     "execution_count": 32,
     "metadata": {},
     "output_type": "execute_result"
    }
   ],
   "source": [
    "# -- Inplace Operations --\n",
    "t = torch.zeros(3)\n",
    "\n",
    "t.add_(x)  # Whenever we have operation followed by _ it will mutate the tensor in place\n",
    "t\n",
    "# NOTE: t = t + x is not inplace, bit confusing."
   ]
  },
  {
   "cell_type": "markdown",
   "metadata": {},
   "source": [
    "### Exponentiation"
   ]
  },
  {
   "cell_type": "code",
   "execution_count": 33,
   "metadata": {},
   "outputs": [
    {
     "data": {
      "text/plain": [
       "tensor([1, 4, 9])"
      ]
     },
     "execution_count": 33,
     "metadata": {},
     "output_type": "execute_result"
    }
   ],
   "source": [
    "z = x.pow(2)  # z = [1, 4, 9]\n",
    "z = x**2  # z = [1, 4, 9]\n",
    "z"
   ]
  },
  {
   "cell_type": "markdown",
   "metadata": {},
   "source": [
    "### Comaparsion"
   ]
  },
  {
   "cell_type": "code",
   "execution_count": 34,
   "metadata": {},
   "outputs": [
    {
     "name": "stdout",
     "output_type": "stream",
     "text": [
      "tensor([True, True, True])\n",
      "tensor([False, False, False])\n"
     ]
    }
   ],
   "source": [
    "z = x > 0  # Returns [True, True, True]\n",
    "print(z)\n",
    "z = x < 0  # Returns [False, False, False]\n",
    "print(z)"
   ]
  },
  {
   "cell_type": "markdown",
   "metadata": {},
   "source": [
    "### Matrix Multiplication"
   ]
  },
  {
   "cell_type": "code",
   "execution_count": 35,
   "metadata": {},
   "outputs": [
    {
     "data": {
      "text/plain": [
       "tensor([[1.6036, 0.8322, 1.4877],\n",
       "        [1.8939, 1.0413, 1.5948]])"
      ]
     },
     "execution_count": 35,
     "metadata": {},
     "output_type": "execute_result"
    }
   ],
   "source": [
    "x1 = torch.rand((2, 5))\n",
    "x2 = torch.rand((5, 3))\n",
    "x3 = torch.mm(x1, x2)  # Matrix multiplication of x1 and x2, out shape: 2x3\n",
    "x3 = x1.mm(x2)  # Similar as line above\n",
    "x3"
   ]
  },
  {
   "cell_type": "markdown",
   "metadata": {},
   "source": [
    "### Matrix Exponentiation"
   ]
  },
  {
   "cell_type": "code",
   "execution_count": 36,
   "metadata": {},
   "outputs": [
    {
     "name": "stdout",
     "output_type": "stream",
     "text": [
      "tensor([[1.9845, 2.2630, 1.5041, 2.5477, 2.5372],\n",
      "        [1.7166, 1.8140, 1.2379, 2.1772, 2.2259],\n",
      "        [3.1912, 3.4204, 2.4400, 4.3027, 4.3494],\n",
      "        [2.8229, 3.2086, 2.4919, 4.2319, 4.1824],\n",
      "        [1.4388, 1.5726, 1.0855, 1.8740, 1.8938]])\n"
     ]
    }
   ],
   "source": [
    "matrix_exp = torch.rand(5, 5)\n",
    "print(matrix_exp.matrix_power(3))  "
   ]
  },
  {
   "cell_type": "markdown",
   "metadata": {},
   "source": [
    "### Element wise Multiplication"
   ]
  },
  {
   "cell_type": "code",
   "execution_count": 37,
   "metadata": {},
   "outputs": [
    {
     "data": {
      "text/plain": [
       "tensor([ 9, 16, 21])"
      ]
     },
     "execution_count": 37,
     "metadata": {},
     "output_type": "execute_result"
    }
   ],
   "source": [
    "z = x * y\n",
    "z"
   ]
  },
  {
   "cell_type": "markdown",
   "metadata": {},
   "source": [
    "### Dot Product (Used specifically for Vectors)"
   ]
  },
  {
   "cell_type": "code",
   "execution_count": 38,
   "metadata": {},
   "outputs": [
    {
     "data": {
      "text/plain": [
       "tensor(46)"
      ]
     },
     "execution_count": 38,
     "metadata": {},
     "output_type": "execute_result"
    }
   ],
   "source": [
    "z = torch.dot(x, y)\n",
    "z"
   ]
  },
  {
   "cell_type": "markdown",
   "metadata": {},
   "source": [
    "# -- Batch Matrix Multiplication --"
   ]
  },
  {
   "cell_type": "code",
   "execution_count": 40,
   "metadata": {},
   "outputs": [
    {
     "data": {
      "text/plain": [
       "tensor([[[3.4238, 3.8417, 3.5685,  ..., 3.5703, 4.8100, 4.5675],\n",
       "         [5.2855, 6.1234, 4.9593,  ..., 5.2107, 7.3816, 7.7275],\n",
       "         [4.5830, 3.5622, 3.4157,  ..., 3.4312, 5.3074, 4.9746],\n",
       "         ...,\n",
       "         [3.4342, 3.8357, 3.2583,  ..., 3.2414, 4.3260, 4.4927],\n",
       "         [4.6908, 4.9731, 3.9796,  ..., 4.5289, 6.4835, 6.4278],\n",
       "         [4.6140, 4.7881, 4.3090,  ..., 4.3557, 6.6817, 6.6317]],\n",
       "\n",
       "        [[5.5663, 4.2936, 5.1691,  ..., 3.4019, 2.4863, 4.1179],\n",
       "         [5.7247, 5.1422, 5.3619,  ..., 4.2943, 3.9218, 4.8550],\n",
       "         [5.9615, 5.1008, 5.9645,  ..., 4.4299, 3.3086, 5.7118],\n",
       "         ...,\n",
       "         [7.0241, 7.2337, 6.7921,  ..., 5.3248, 4.0628, 7.2322],\n",
       "         [4.6179, 4.3770, 3.6287,  ..., 2.3876, 2.4068, 3.1621],\n",
       "         [4.4570, 4.0643, 3.9004,  ..., 2.5185, 2.3341, 3.4639]],\n",
       "\n",
       "        [[5.1537, 4.6448, 5.6653,  ..., 5.0770, 3.9881, 6.2690],\n",
       "         [5.7834, 4.6706, 6.3945,  ..., 4.2633, 3.3151, 6.2175],\n",
       "         [5.6097, 4.3722, 6.2010,  ..., 5.0909, 3.8539, 5.5014],\n",
       "         ...,\n",
       "         [5.6116, 5.2193, 5.6426,  ..., 4.8814, 3.5309, 6.2614],\n",
       "         [5.4147, 4.9791, 6.7493,  ..., 5.5215, 3.8952, 6.4891],\n",
       "         [4.2595, 3.7540, 4.6616,  ..., 3.5182, 2.8301, 4.9271]],\n",
       "\n",
       "        ...,\n",
       "\n",
       "        [[4.2494, 5.1823, 5.5493,  ..., 6.1302, 6.1987, 4.9013],\n",
       "         [4.0942, 3.9455, 4.5493,  ..., 5.9972, 5.6638, 4.8524],\n",
       "         [4.7885, 4.5429, 5.3506,  ..., 6.1907, 5.4620, 5.1128],\n",
       "         ...,\n",
       "         [3.7196, 3.8304, 4.6870,  ..., 4.7982, 5.1988, 4.6985],\n",
       "         [5.1335, 5.0421, 6.1738,  ..., 7.6905, 6.3935, 5.9206],\n",
       "         [4.7838, 4.8425, 6.0407,  ..., 6.5167, 6.0180, 5.3341]],\n",
       "\n",
       "        [[4.4932, 5.0294, 5.1257,  ..., 5.5003, 5.0455, 4.5587],\n",
       "         [5.2001, 5.4195, 4.5487,  ..., 4.9239, 4.9020, 3.8763],\n",
       "         [4.0810, 3.6938, 4.1813,  ..., 4.4575, 3.4169, 3.7792],\n",
       "         ...,\n",
       "         [5.7355, 5.7655, 5.9996,  ..., 5.8332, 5.0343, 5.2311],\n",
       "         [6.8856, 6.5097, 5.7697,  ..., 6.5538, 5.3486, 6.1265],\n",
       "         [4.3909, 4.4830, 3.4226,  ..., 4.6793, 4.6195, 3.7893]],\n",
       "\n",
       "        [[5.0220, 3.5855, 4.1123,  ..., 5.0406, 4.3771, 4.4725],\n",
       "         [4.7705, 3.8364, 5.3756,  ..., 5.0418, 4.0627, 4.3481],\n",
       "         [5.7653, 4.4035, 5.5178,  ..., 5.1907, 4.7937, 4.7809],\n",
       "         ...,\n",
       "         [6.3678, 4.5036, 6.8221,  ..., 5.1946, 4.8571, 5.3130],\n",
       "         [4.6425, 4.0761, 5.1918,  ..., 4.8223, 4.0426, 4.3155],\n",
       "         [4.7785, 3.8428, 4.4861,  ..., 4.4895, 3.9239, 3.5024]]])"
      ]
     },
     "execution_count": 40,
     "metadata": {},
     "output_type": "execute_result"
    }
   ],
   "source": [
    "batch = 32\n",
    "n = 10\n",
    "m = 20\n",
    "p = 30\n",
    "tensor1 = torch.rand((batch, n, m))\n",
    "tensor2 = torch.rand((batch, m, p))\n",
    "out_bmm = torch.bmm(tensor1, tensor2)  # Will be shape: (b x n x p)\n",
    "out_bmm"
   ]
  },
  {
   "cell_type": "markdown",
   "metadata": {},
   "source": [
    "### Broadcasting"
   ]
  },
  {
   "cell_type": "code",
   "execution_count": 41,
   "metadata": {},
   "outputs": [
    {
     "name": "stdout",
     "output_type": "stream",
     "text": [
      "tensor([[-0.7316, -0.1894, -0.6852, -0.5786, -0.7450],\n",
      "        [-0.6052, -0.4968, -0.5458, -0.3414, -0.1330],\n",
      "        [-0.1833, -0.1913, -0.6064, -0.7221, -0.2065],\n",
      "        [-0.4505, -0.8518, -0.2086, -0.7430, -0.4696],\n",
      "        [-0.3132, -0.8965, -0.5556, -0.6306, -0.6463]])\n",
      "tensor([[0.2684, 0.8106, 0.3148, 0.4214, 0.2550],\n",
      "        [0.3948, 0.5032, 0.4542, 0.6586, 0.8670],\n",
      "        [0.8167, 0.8087, 0.3936, 0.2779, 0.7935],\n",
      "        [0.5495, 0.1482, 0.7914, 0.2570, 0.5304],\n",
      "        [0.6868, 0.1035, 0.4444, 0.3694, 0.3537]])\n"
     ]
    }
   ],
   "source": [
    "x1 = torch.rand((5, 5))\n",
    "x2 = torch.ones((1, 5))\n",
    "print(x1-x2)\n",
    "print(x1*x2)"
   ]
  },
  {
   "cell_type": "code",
   "execution_count": 42,
   "metadata": {},
   "outputs": [
    {
     "name": "stdout",
     "output_type": "stream",
     "text": [
      "tensor([[-0.3677, -0.7518, -0.2761, -0.1567, -0.2558],\n",
      "        [-0.5587, -0.0668, -0.4092, -0.9877, -0.0058],\n",
      "        [-0.2323, -0.3260, -0.3458, -0.8098, -0.4586],\n",
      "        [-0.2180, -0.1578, -0.6630, -0.8686, -0.5869],\n",
      "        [-0.2465, -0.0403, -0.3539, -0.4374, -0.5023]])\n",
      "tensor([[0.6323, 0.2482, 0.7239, 0.8433, 0.7442],\n",
      "        [0.4413, 0.9332, 0.5908, 0.0123, 0.9942],\n",
      "        [0.7677, 0.6740, 0.6542, 0.1902, 0.5414],\n",
      "        [0.7820, 0.8422, 0.3370, 0.1314, 0.4131],\n",
      "        [0.7535, 0.9597, 0.6461, 0.5626, 0.4977]])\n"
     ]
    }
   ],
   "source": [
    "x1 = torch.rand((5, 5))\n",
    "x2 = torch.ones((5, 1))\n",
    "print(x1-x2)\n",
    "print(x1*x2)"
   ]
  },
  {
   "cell_type": "markdown",
   "metadata": {},
   "source": [
    "### Other useful tensor operations"
   ]
  },
  {
   "cell_type": "code",
   "execution_count": null,
   "metadata": {},
   "outputs": [],
   "source": [
    "sum_x = torch.sum(x, dim=0)  # Sum of x across dim=0 (which is the only dim in our case), sum_x = 6"
   ]
  },
  {
   "cell_type": "code",
   "execution_count": null,
   "metadata": {},
   "outputs": [],
   "source": [
    "values, indices = torch.max(x, dim=0)  # Can also do x.max(dim=0)\n",
    "values, indices = torch.min(x, dim=0)  # Can also do x.min(dim=0)"
   ]
  },
  {
   "cell_type": "code",
   "execution_count": null,
   "metadata": {},
   "outputs": [],
   "source": [
    "abs_x = torch.abs(x)  # Returns x where abs function has been applied to every element"
   ]
  },
  {
   "cell_type": "code",
   "execution_count": null,
   "metadata": {},
   "outputs": [],
   "source": [
    "z = torch.argmax(x, dim=0)  # Gets index of the maximum value\n",
    "z = torch.argmin(x, dim=0)  # Gets index of the minimum value"
   ]
  },
  {
   "cell_type": "code",
   "execution_count": null,
   "metadata": {},
   "outputs": [],
   "source": [
    "mean_x = torch.mean(x.float(), dim=0)  # mean requires x to be float"
   ]
  },
  {
   "cell_type": "code",
   "execution_count": null,
   "metadata": {},
   "outputs": [],
   "source": [
    "z = torch.eq(x, y)  # Element wise comparison, in this case z = [False, False, False]"
   ]
  },
  {
   "cell_type": "code",
   "execution_count": null,
   "metadata": {},
   "outputs": [],
   "source": [
    "sorted_y, indices = torch.sort(y, dim=0, descending=False)"
   ]
  },
  {
   "cell_type": "code",
   "execution_count": null,
   "metadata": {},
   "outputs": [],
   "source": [
    "z = torch.clamp(x, min=0)\n",
    "# All values < 0 set to 0 and values > 0 unchanged (this is exactly ReLU function)\n",
    "# If you want to values over max_val to be clamped, do torch.clamp(x, min=min_val, max=max_val)"
   ]
  },
  {
   "cell_type": "code",
   "execution_count": null,
   "metadata": {},
   "outputs": [],
   "source": [
    "x = torch.tensor([1, 0, 1, 1, 1], dtype=torch.bool)  # True/False values\n",
    "z = torch.any(x)  # will return True, can also do x.any() instead of torch.any(x)\n",
    "z = torch.all(\n",
    "    x\n",
    ")  # will return False (since not all are True), can also do x.all() instead of torch.all()"
   ]
  }
 ],
 "metadata": {
  "kernelspec": {
   "display_name": "Python 3",
   "language": "python",
   "name": "python3"
  },
  "language_info": {
   "codemirror_mode": {
    "name": "ipython",
    "version": 3
   },
   "file_extension": ".py",
   "mimetype": "text/x-python",
   "name": "python",
   "nbconvert_exporter": "python",
   "pygments_lexer": "ipython3",
   "version": "3.11.5"
  }
 },
 "nbformat": 4,
 "nbformat_minor": 2
}
